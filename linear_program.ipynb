{
 "nbformat": 4,
 "nbformat_minor": 0,
 "metadata": {
  "colab": {
   "provenance": []
  },
  "kernelspec": {
   "name": "python3",
   "display_name": "Python 3"
  },
  "language_info": {
   "name": "python"
  }
 },
 "cells": [
  {
   "cell_type": "code",
   "source": [
    "import rustworkx as rx\n",
    "import random\n",
    "from ortools.linear_solver import pywraplp\n",
    "import time\n",
    "\n",
    "def max_flow_with_ortools_rustworkx(G, s, t):\n",
    "    # Ensure G is a directed graph\n",
    "    if not isinstance(G, rx.PyDiGraph):\n",
    "        raise ValueError(\"Graph must be a directed graph (PyDiGraph).\")\n",
    "\n",
    "    # Get list of node indices\n",
    "    nodes = list(G.node_indexes())\n",
    "    if len(nodes) < 2:\n",
    "        raise ValueError(\"Graph must have at least two nodes.\")\n",
    "\n",
    "    # Randomly select two distinct nodes as source (s) and sink (t)\n",
    "    print(f\"Selected source: {G[s]}, sink: {G[t]}\")\n",
    "\n",
    "    # Create the LP solver\n",
    "    solver = pywraplp.Solver.CreateSolver('CLP')\n",
    "\n",
    "    # Create variables for flows on edges\n",
    "    flow = {}\n",
    "    # Build mapping from nodes to incoming and outgoing edges\n",
    "    in_edges = {node: [] for node in nodes}\n",
    "    out_edges = {node: [] for node in nodes}\n",
    "\n",
    "    # Iterate over edges to create flow variables\n",
    "    for u, v, weight in G.weighted_edge_list():\n",
    "        capacity = weight.get('capacity', 1)  # Default capacity is 1 if not provided\n",
    "        var_name = f'f_{u}_{v}'\n",
    "        flow[(u, v)] = solver.NumVar(0, capacity, var_name)\n",
    "        out_edges[u].append((u, v))\n",
    "        in_edges[v].append((u, v))\n",
    "\n",
    "    # Flow conservation constraints for all nodes except s and t\n",
    "    for node in nodes:\n",
    "        if node == s or node == t:\n",
    "            continue\n",
    "        inflow = solver.Sum([flow[(u, node)] for (u, node) in in_edges[node]])\n",
    "        outflow = solver.Sum([flow[(node, v)] for (node, v) in out_edges[node]])\n",
    "        solver.Add(inflow == outflow)\n",
    "\n",
    "    # Objective: Maximize total flow into sink t\n",
    "    total_inflow_t = solver.Sum([flow[(u, t)] for (u, t) in in_edges[t]])\n",
    "    total_outflow_t = solver.Sum([flow[(t, v)] for (t, v) in out_edges[t]])\n",
    "    net_flow_t = total_inflow_t - total_outflow_t\n",
    "    solver.Maximize(net_flow_t)\n",
    "\n",
    "    # Solve the LP problem\n",
    "    start_time = time.time()\n",
    "    status = solver.Solve()\n",
    "    end_time = time.time()\n",
    "\n",
    "    solve_time = end_time - start_time  # Elapsed time in seconds\n",
    "\n",
    "\n",
    "    if status == pywraplp.Solver.OPTIMAL:\n",
    "        max_flow_value = net_flow_t.solution_value()\n",
    "        print(f\"Maximum flow from {G[s]} to {G[t]}: {max_flow_value}\")\n",
    "        # Optionally, print the flow values on the edges\n",
    "        for (u, v), var in flow.items():\n",
    "            flow_value = var.solution_value()\n",
    "            if flow_value > 0:\n",
    "                print(f\"Flow from {G[u]} to {G[v]}: {flow_value}\")\n",
    "    else:\n",
    "        print(\"The solver did not find an optimal solution.\")"
   ],
   "metadata": {
    "id": "T3GPTdanpKP5",
    "executionInfo": {
     "status": "ok",
     "timestamp": 1733457968988,
     "user_tz": 300,
     "elapsed": 231,
     "user": {
      "displayName": "Rajiv Swamy",
      "userId": "05147094213715335145"
     }
    }
   },
   "execution_count": 94,
   "outputs": []
  },
  {
   "cell_type": "code",
   "source": [
    "# Create a sample directed graph with capacities\n",
    "G = rx.PyDiGraph()\n",
    "# Add nodes\n",
    "node_A = G.add_node('A')\n",
    "node_B = G.add_node('B')\n",
    "node_C = G.add_node('C')\n",
    "node_D = G.add_node('D')\n",
    "node_E = G.add_node('E')\n",
    "# Add edges with capacities\n",
    "G.add_edge(node_A, node_B, {'capacity': 3})\n",
    "G.add_edge(node_A, node_C, {'capacity': 2})\n",
    "G.add_edge(node_B, node_C, {'capacity': 1})\n",
    "G.add_edge(node_B, node_D, {'capacity': 3})\n",
    "G.add_edge(node_C, node_D, {'capacity': 2})\n",
    "G.add_edge(node_C, node_E, {'capacity': 3})\n",
    "G.add_edge(node_D, node_E, {'capacity': 2})\n",
    "\n",
    "\n",
    "\n",
    "# Solve the max flow problem using the defined function\n",
    "list(G.node_indexes())"
   ],
   "metadata": {
    "colab": {
     "base_uri": "https://localhost:8080/"
    },
    "id": "rt8jhIOwxkSs",
    "executionInfo": {
     "status": "ok",
     "timestamp": 1733457969915,
     "user_tz": 300,
     "elapsed": 399,
     "user": {
      "displayName": "Rajiv Swamy",
      "userId": "05147094213715335145"
     }
    },
    "outputId": "ada661f9-8472-45fc-f1db-9f50d4e310c9"
   },
   "execution_count": 95,
   "outputs": [
    {
     "output_type": "execute_result",
     "data": {
      "text/plain": [
       "[0, 1, 2, 3, 4]"
      ]
     },
     "metadata": {},
     "execution_count": 95
    }
   ]
  },
  {
   "cell_type": "code",
   "source": [
    "max_flow_with_ortools_rustworkx(G, 1, 4)"
   ],
   "metadata": {
    "id": "xDI-OX-_0uhd",
    "colab": {
     "base_uri": "https://localhost:8080/"
    },
    "executionInfo": {
     "status": "ok",
     "timestamp": 1733457971133,
     "user_tz": 300,
     "elapsed": 233,
     "user": {
      "displayName": "Rajiv Swamy",
      "userId": "05147094213715335145"
     }
    },
    "outputId": "c733d623-914a-47fd-f6ca-257f41a961fb"
   },
   "execution_count": 96,
   "outputs": [
    {
     "output_type": "stream",
     "name": "stdout",
     "text": [
      "Selected source: B, sink: E\n",
      "Maximum flow from B to E: 3.0\n",
      "Flow from B to C: 1.0\n",
      "Flow from B to D: 2.0\n",
      "Flow from C to E: 1.0\n",
      "Flow from D to E: 2.0\n"
     ]
    }
   ]
  },
  {
   "cell_type": "code",
   "source": [
    "import numpy as np"
   ],
   "metadata": {
    "id": "VOEbgxyu2GDy",
    "executionInfo": {
     "status": "ok",
     "timestamp": 1733453009519,
     "user_tz": 300,
     "elapsed": 247,
     "user": {
      "displayName": "Rajiv Swamy",
      "userId": "05147094213715335145"
     }
    }
   },
   "execution_count": 15,
   "outputs": []
  },
  {
   "cell_type": "code",
   "source": [
    "x = np.linspace(1,4,30)"
   ],
   "metadata": {
    "id": "gykJnVdp2c61",
    "executionInfo": {
     "status": "ok",
     "timestamp": 1733453057122,
     "user_tz": 300,
     "elapsed": 237,
     "user": {
      "displayName": "Rajiv Swamy",
      "userId": "05147094213715335145"
     }
    }
   },
   "execution_count": 18,
   "outputs": []
  },
  {
   "cell_type": "code",
   "source": [
    "(10**x).astype(int)"
   ],
   "metadata": {
    "colab": {
     "base_uri": "https://localhost:8080/"
    },
    "id": "nTn5blwC2gkC",
    "executionInfo": {
     "status": "ok",
     "timestamp": 1733453103010,
     "user_tz": 300,
     "elapsed": 272,
     "user": {
      "displayName": "Rajiv Swamy",
      "userId": "05147094213715335145"
     }
    },
    "outputId": "de571632-ed35-4713-a06b-7696fce1609f"
   },
   "execution_count": 21,
   "outputs": [
    {
     "output_type": "execute_result",
     "data": {
      "text/plain": [
       "array([   10,    12,    16,    20,    25,    32,    41,    52,    67,\n",
       "          85,   108,   137,   174,   221,   280,   356,   452,   573,\n",
       "         727,   923,  1172,  1487,  1887,  2395,  3039,  3856,  4893,\n",
       "        6210,  7880, 10000])"
      ]
     },
     "metadata": {},
     "execution_count": 21
    }
   ]
  },
  {
   "cell_type": "code",
   "source": [
    "import rustworkx as rx\n",
    "import random\n",
    "import time\n",
    "from pulp import LpProblem, LpMaximize, LpVariable, LpStatusOptimal, value, lpSum\n",
    "import pulp\n",
    "\n",
    "def max_flow_with_pulp_rustworkx(G, s, t):\n",
    "    # Ensure G is a directed graph\n",
    "    if not isinstance(G, rx.PyDiGraph):\n",
    "        raise ValueError(\"Graph must be a directed graph (PyDiGraph).\")\n",
    "\n",
    "    # Get list of node indices\n",
    "    nodes = list(G.node_indexes())\n",
    "    if len(nodes) < 2:\n",
    "        raise ValueError(\"Graph must have at least two nodes.\")\n",
    "\n",
    "    # Randomly select two distinct nodes as source (s) and sink (t)\n",
    "\n",
    "    print(f\"Selected source: {G[s]}, sink: {G[t]}\")\n",
    "\n",
    "    # Create the LP problem\n",
    "    prob = LpProblem(\"MaxFlow\", LpMaximize)\n",
    "\n",
    "    # Create variables for flows on edges\n",
    "    flow = {}\n",
    "    # Build mapping from nodes to incoming and outgoing edges\n",
    "    in_edges = {node: [] for node in nodes}\n",
    "    out_edges = {node: [] for node in nodes}\n",
    "\n",
    "    # Iterate over edges to create flow variables\n",
    "    for u, v, weight in G.weighted_edge_list():\n",
    "        capacity = weight.get('capacity', 1)  # Default capacity is 1 if not provided\n",
    "        var_name = f'f_{u}_{v}'\n",
    "        flow[(u, v)] = LpVariable(var_name, lowBound=0, upBound=capacity)\n",
    "        out_edges[u].append((u, v))\n",
    "        in_edges[v].append((u, v))\n",
    "\n",
    "    # Flow conservation constraints for all nodes except s and t\n",
    "    for node in nodes:\n",
    "        if node == s or node == t:\n",
    "            continue\n",
    "        inflow = lpSum([flow[(u, node)] for (u, node) in in_edges[node]])\n",
    "        outflow = lpSum([flow[(node, v)] for (node, v) in out_edges[node]])\n",
    "        prob += (inflow == outflow), f\"FlowConservation_{node}\"\n",
    "\n",
    "    # Objective: Maximize total flow into sink t\n",
    "    total_inflow_t = lpSum([flow[(u, t)] for (u, t) in in_edges[t]])\n",
    "    total_outflow_t = lpSum([flow[(t, v)] for (t, v) in out_edges[t]])\n",
    "    net_flow_t = total_inflow_t - total_outflow_t\n",
    "    prob += net_flow_t, \"MaximizeNetFlowIntoSink\"\n",
    "\n",
    "    # Time the LP solve\n",
    "    start_time = time.time()\n",
    "    status = prob.solve(pulp.PULP_CBC_CMD(msg=1, options=['']))\n",
    "    end_time = time.time()\n",
    "    solve_time = end_time - start_time  # Elapsed time in seconds\n",
    "\n",
    "    if status == LpStatusOptimal:\n",
    "        max_flow_value = value(net_flow_t)\n",
    "        print(f\"Maximum flow from {G[s]} to {G[t]}: {max_flow_value}\")\n",
    "        print(f\"LP Solve Time: {solve_time:.6f} seconds\")  # Print the solve time\n",
    "        # Optionally, print the flow values on the edges\n",
    "        for (u, v), var in flow.items():\n",
    "            flow_value = var.varValue\n",
    "            if flow_value > 0:\n",
    "                print(f\"Flow from {G[u]} to {G[v]}: {flow_value}\")\n",
    "    else:\n",
    "        print(\"The solver did not find an optimal solution.\")\n",
    "        print(f\"LP Solve Time: {solve_time:.6f} seconds\")  # Even if not optimal, print the solve time\n",
    "\n",
    "    # Save the solve time if needed\n",
    "    return solve_time  # Return the solve time for further use"
   ],
   "metadata": {
    "id": "8W_JZXIx74aK",
    "executionInfo": {
     "status": "ok",
     "timestamp": 1733458019573,
     "user_tz": 300,
     "elapsed": 248,
     "user": {
      "displayName": "Rajiv Swamy",
      "userId": "05147094213715335145"
     }
    }
   },
   "execution_count": 99,
   "outputs": []
  },
  {
   "cell_type": "code",
   "source": [
    "solve_time = max_flow_with_pulp_rustworkx(G, 1, 4)"
   ],
   "metadata": {
    "colab": {
     "base_uri": "https://localhost:8080/"
    },
    "id": "G_lCkDebENBC",
    "executionInfo": {
     "status": "ok",
     "timestamp": 1733458020541,
     "user_tz": 300,
     "elapsed": 301,
     "user": {
      "displayName": "Rajiv Swamy",
      "userId": "05147094213715335145"
     }
    },
    "outputId": "17104426-7a79-4bf6-c1b9-3c3870873ca3"
   },
   "execution_count": 100,
   "outputs": [
    {
     "output_type": "stream",
     "name": "stdout",
     "text": [
      "Selected source: B, sink: E\n",
      "Maximum flow from B to E: 3.0\n",
      "LP Solve Time: 0.006949 seconds\n",
      "Flow from B to C: 1.0\n",
      "Flow from B to D: 2.0\n",
      "Flow from C to E: 1.0\n",
      "Flow from D to E: 2.0\n"
     ]
    }
   ]
  },
  {
   "cell_type": "code",
   "source": [
    "import pulp as pl\n",
    "solver_list = pl.listSolvers(onlyAvailable=True)\n",
    "print(solver_list)\n"
   ],
   "metadata": {
    "colab": {
     "base_uri": "https://localhost:8080/"
    },
    "id": "PBh2MUy2EWpM",
    "executionInfo": {
     "status": "ok",
     "timestamp": 1733457834163,
     "user_tz": 300,
     "elapsed": 254,
     "user": {
      "displayName": "Rajiv Swamy",
      "userId": "05147094213715335145"
     }
    },
    "outputId": "99663ca0-f112-444c-cff3-c4d3ad926601"
   },
   "execution_count": 89,
   "outputs": [
    {
     "output_type": "stream",
     "name": "stdout",
     "text": [
      "['PULP_CBC_CMD']\n"
     ]
    }
   ]
  },
  {
   "cell_type": "code",
   "source": [],
   "metadata": {
    "id": "j2-lOMvUI25D"
   },
   "execution_count": null,
   "outputs": []
  }
 ]
}
