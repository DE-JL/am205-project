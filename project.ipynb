{
 "cells": [
  {
   "cell_type": "code",
   "execution_count": 9,
   "id": "initial_id",
   "metadata": {
    "ExecuteTime": {
     "end_time": "2024-12-07T20:37:47.907113Z",
     "start_time": "2024-12-07T20:37:47.901847Z"
    },
    "collapsed": true,
    "jupyter": {
     "outputs_hidden": true
    }
   },
   "outputs": [],
   "source": [
    "import networkx as nx\n",
    "import random\n",
    "\n",
    "\n",
    "def gen_erdos_renyi(n, p, K):\n",
    "    graphs = []\n",
    "    for _ in range(K):\n",
    "        # Generate a directed Erdős-Rényi graph G(n, p)\n",
    "        G = nx.gnp_random_graph(n, p, directed=True)\n",
    "\n",
    "        # Assign random capacities and add reverse edges with the same capacity\n",
    "        for u, v in list(G.edges()):\n",
    "            capacity = random.uniform(0, 1)\n",
    "            G[u][v][\"capacity\"] = capacity\n",
    "            G.add_edge(v, u, capacity=capacity)\n",
    "\n",
    "        graphs.append(G)\n",
    "    return graphs\n",
    "\n",
    "# n = 1000\n",
    "# p = 0.1\n",
    "# K = 50\n",
    "# generated_graphs = gen_erdos_renyi(n, p, K)\n",
    "\n",
    "# for i, g in enumerate(generated_graphs, start=1):\n",
    "#     print(f\"Graph {i}:\")\n",
    "#     print(\"Nodes:\", list(g.node_indexes()))\n",
    "#     print(\"Edges with weights:\")\n",
    "#     for (u, v, wt) in g.weighted_edge_list():\n",
    "#         print(f\"  {u} -> {v} (weight={wt})\")\n"
   ]
  },
  {
   "cell_type": "code",
   "execution_count": 10,
   "id": "34a5c7b753c8c148",
   "metadata": {
    "ExecuteTime": {
     "end_time": "2024-12-07T20:37:47.918601Z",
     "start_time": "2024-12-07T20:37:47.913005Z"
    }
   },
   "outputs": [],
   "source": [
    "import heapq\n",
    "\n",
    "\n",
    "def gen_random_trees(n, K):\n",
    "    def prufer_to_tree(prufer):\n",
    "        degree = [1] * n\n",
    "        edges = []\n",
    "\n",
    "        # Increase degree for each node in prufer\n",
    "        for x in prufer:\n",
    "            degree[x] += 1\n",
    "\n",
    "        # Leaves are nodes with degree=1\n",
    "        leaves = [i for i, d in enumerate(degree) if d == 1]\n",
    "        heapq.heapify(leaves)\n",
    "\n",
    "        # Decode prufer: repeatedly connect smallest leaf to next code element\n",
    "        for x in prufer:\n",
    "            leaf = heapq.heappop(leaves)\n",
    "            edges.append((leaf, x))\n",
    "            degree[x] -= 1\n",
    "            if degree[x] == 1:\n",
    "                heapq.heappush(leaves, x)\n",
    "\n",
    "        # Connect the last two leaves\n",
    "        edges.append((heapq.heappop(leaves), heapq.heappop(leaves)))\n",
    "\n",
    "        return edges\n",
    "\n",
    "    graphs = []\n",
    "    for _ in range(K):\n",
    "        # Generate a random prufer code and build the graph\n",
    "        prufer = [random.randrange(n) for _ in range(n - 2)]\n",
    "        edges = prufer_to_tree(prufer)\n",
    "\n",
    "        G = nx.DiGraph()\n",
    "        G.add_nodes_from(range(n))\n",
    "\n",
    "        # For each undirected edge (u, v), add both (u, v) and (v, u) with the same capacity\n",
    "        for (u, v) in edges:\n",
    "            capacity = random.random()\n",
    "            G.add_edge(u, v, capacity=capacity)\n",
    "            G.add_edge(v, u, capacity=capacity)\n",
    "\n",
    "        # Add to graphs\n",
    "        graphs.append(G)\n",
    "\n",
    "    return graphs"
   ]
  },
  {
   "cell_type": "code",
   "execution_count": 11,
   "id": "6132bb73cee35f02",
   "metadata": {
    "ExecuteTime": {
     "end_time": "2024-12-07T20:37:47.931322Z",
     "start_time": "2024-12-07T20:37:47.925292Z"
    }
   },
   "outputs": [],
   "source": [
    "from ortools.linear_solver import pywraplp\n",
    "\n",
    "\n",
    "def max_flow_glop(G, s, t):\n",
    "    # Get list of node indices\n",
    "    nodes = list(G.nodes())\n",
    "\n",
    "    # Create the LP solver\n",
    "    solver = pywraplp.Solver.CreateSolver('GLOP')\n",
    "\n",
    "    # Create variables for flows on edges\n",
    "    flow = {}\n",
    "    in_edges = {node: [] for node in nodes}\n",
    "    out_edges = {node: [] for node in nodes}\n",
    "\n",
    "    # Iterate over edges to create flow variables\n",
    "    for u, v, data in G.edges(data=True):\n",
    "        cap = data['capacity']\n",
    "        flow[(u, v)] = solver.NumVar(0, cap, f'x_{u}_{v}')\n",
    "        out_edges[u].append((u, v))\n",
    "        in_edges[v].append((u, v))\n",
    "\n",
    "    # Flow conservation constraints for all nodes except s and t\n",
    "    for node in nodes:\n",
    "        if node == s or node == t:\n",
    "            continue\n",
    "        node_in = solver.Sum([flow[(u, node)] for (u, node) in in_edges[node]])\n",
    "        node_out = solver.Sum([flow[(node, v)] for (node, v) in out_edges[node]])\n",
    "        solver.Add(node_in == node_out)\n",
    "\n",
    "    # Objective: Maximize total flow into sink t\n",
    "    t_in = solver.Sum([flow[(u, t)] for (u, t) in in_edges[t]])\n",
    "    t_out = solver.Sum([flow[(t, v)] for (t, v) in out_edges[t]])\n",
    "    net_flow = t_in - t_out\n",
    "    solver.Maximize(net_flow)\n",
    "\n",
    "    # Solve the LP problem\n",
    "    status = solver.Solve()\n",
    "\n",
    "    if status == pywraplp.Solver.OPTIMAL:\n",
    "        max_flow_value = net_flow.solution_value()\n",
    "        print(f\"Maximum flow from {G[s]} to {G[t]}: {max_flow_value}\")\n",
    "\n",
    "        # Optionally, print the flow values on the edges\n",
    "        for (u, v), var in flow.items():\n",
    "            flow_value = var.solution_value()\n",
    "            if flow_value > 0:\n",
    "                print(f\"Flow from {u} to {v}: {flow_value}\")\n",
    "    else:\n",
    "        print(\"The solver did not find an optimal solution.\")"
   ]
  },
  {
   "cell_type": "code",
   "execution_count": 12,
   "id": "258bd1b027a7d436",
   "metadata": {
    "ExecuteTime": {
     "end_time": "2024-12-07T20:37:47.939380Z",
     "start_time": "2024-12-07T20:37:47.936736Z"
    }
   },
   "outputs": [],
   "source": [
    "def max_flow_dinitz(G, s, t):\n",
    "    from networkx.algorithms.flow import dinitz\n",
    "    R = dinitz(G, s, t)\n",
    "    return R.graph['flow_value']\n",
    "\n",
    "\n",
    "def max_flow_edmonds_karp(G, s, t):\n",
    "    from networkx.algorithms.flow import edmonds_karp\n",
    "    R = edmonds_karp(G, s, t, capacity='capacity')\n",
    "    return R.graph['flow_value']\n",
    "\n",
    "\n",
    "def max_flow_preflow_push(G, s, t):\n",
    "    from networkx.algorithms.flow import preflow_push\n",
    "    R = preflow_push(G, s, t, capacity='capacity')\n",
    "    return R.graph['flow_value']"
   ]
  },
  {
   "cell_type": "code",
   "execution_count": 13,
   "id": "e2710297b21f5ee1",
   "metadata": {
    "ExecuteTime": {
     "end_time": "2024-12-07T20:37:47.949612Z",
     "start_time": "2024-12-07T20:37:47.945152Z"
    }
   },
   "outputs": [
    {
     "name": "stdout",
     "output_type": "stream",
     "text": [
      "Maximum flow from {1: {'capacity': 1}, 4: {'capacity': 1}} to {}: 2.0\n",
      "Flow from 0 to 1: 1.0\n",
      "Flow from 0 to 4: 1.0\n",
      "Flow from 1 to 2: 1.0\n",
      "Flow from 2 to 3: 1.0\n",
      "Flow from 3 to 7: 1.0\n",
      "Flow from 4 to 5: 1.0\n",
      "Flow from 5 to 6: 1.0\n",
      "Flow from 6 to 7: 1.0\n",
      "2\n",
      "2\n",
      "2\n"
     ]
    }
   ],
   "source": [
    "G = nx.DiGraph()\n",
    "G.add_nodes_from(list(range(8)))\n",
    "\n",
    "edges = [\n",
    "    (0, 1, {\"capacity\": 1}),\n",
    "    (0, 4, {\"capacity\": 1}),\n",
    "    (1, 2, {\"capacity\": 1}),\n",
    "    (2, 3, {\"capacity\": 1}),\n",
    "    (3, 7, {\"capacity\": 1}),\n",
    "    (4, 3, {\"capacity\": 1}),\n",
    "    (4, 5, {\"capacity\": 1}),\n",
    "    (5, 6, {\"capacity\": 1}),\n",
    "    (6, 7, {\"capacity\": 1}),\n",
    "]\n",
    "\n",
    "G.add_edges_from(edges)\n",
    "max_flow_glop(G, 0, 7)\n",
    "\n",
    "print(max_flow_dinitz(G, 0, 7))\n",
    "print(max_flow_edmonds_karp(G, 0, 7))\n",
    "print(max_flow_preflow_push(G, 0, 7))"
   ]
  },
  {
   "cell_type": "code",
   "execution_count": 15,
   "id": "92d8ef90b8af539c",
   "metadata": {
    "ExecuteTime": {
     "end_time": "2024-12-07T20:38:02.955782Z",
     "start_time": "2024-12-07T20:38:02.952696Z"
    }
   },
   "outputs": [],
   "source": [
    "methods = [\n",
    "    (max_flow_dinitz, \"Dinitz\"),\n",
    "    (max_flow_edmonds_karp, \"Edmonds-Karp\"),\n",
    "    (max_flow_preflow_push, \"Preflow-Push\"),\n",
    "]"
   ]
  },
  {
   "cell_type": "code",
   "execution_count": 19,
   "id": "c8a37543e8e80b92",
   "metadata": {
    "ExecuteTime": {
     "end_time": "2024-12-07T20:41:29.363756Z",
     "start_time": "2024-12-07T20:41:29.359934Z"
    }
   },
   "outputs": [],
   "source": [
    "import random\n",
    "\n",
    "\n",
    "def sample_node_pairs(G, S):\n",
    "    pairs = []\n",
    "    for _ in range(S):\n",
    "        u, v = random.sample(G.nodes(), 2)\n",
    "        pairs.append((u, v))\n",
    "    return pairs\n"
   ]
  },
  {
   "cell_type": "code",
   "execution_count": null,
   "id": "2eec8e31dd078a30",
   "metadata": {},
   "outputs": [],
   "source": [
    "import time\n",
    "import matplotlib.pyplot as plt\n",
    "\n",
    "\n",
    "def run_erdos_renyi(methods, n_vals, K=30, S=10):\n",
    "    # Initialize a dictionary to store average runtimes per method across all n_vals\n",
    "    average_runtimes = {method_name: [] for _, method_name in methods}\n",
    "\n",
    "    # Loop over each graph size\n",
    "    for n in n_vals:\n",
    "        # Build K random graphs of size n\n",
    "        p = 0.5\n",
    "        graphs = gen_erdos_renyi(n, p, K)\n",
    "\n",
    "        # Initialize a dictionary to store runtimes per method at the current graph size\n",
    "        runtimes_at_current_size = {method_name: [] for _, method_name in methods}\n",
    "\n",
    "        # Loop over each graph\n",
    "        for G in graphs:\n",
    "            # Sample S source-sink pairs from G\n",
    "            source_sink_pairs = sample_node_pairs(G, S)\n",
    "\n",
    "            # Dictionary to accumulate runtimes per method within the current graph\n",
    "            runtimes_in_current_graph = {method_name: [] for _, method_name in methods}\n",
    "\n",
    "            # Loop over each source-sink pair\n",
    "            for s, t in source_sink_pairs:\n",
    "                # Loop over each method\n",
    "                for method, method_name in methods:\n",
    "                    # Time the method's solve function\n",
    "                    start_time = time.time()\n",
    "                    method(G, s, t)\n",
    "                    end_time = time.time()\n",
    "\n",
    "                    # Calculate elapsed time and store it\n",
    "                    elapsed_time = end_time - start_time\n",
    "                    runtimes_in_current_graph[method_name].append(elapsed_time)\n",
    "\n",
    "            # Compute average runtime over all pairs for each method in the current graph\n",
    "            for method_name in runtimes_in_current_graph:\n",
    "                avg_runtime = sum(runtimes_in_current_graph[method_name]) / len(runtimes_in_current_graph[method_name])\n",
    "                runtimes_at_current_size[method_name].append(avg_runtime)\n",
    "\n",
    "        # Compute average runtime over all graphs for each method at the current graph size\n",
    "        for method_name in runtimes_at_current_size:\n",
    "            avg_runtime_over_graphs = sum(runtimes_at_current_size[method_name]) / len(\n",
    "                runtimes_at_current_size[method_name])\n",
    "            average_runtimes[method_name].append(avg_runtime_over_graphs)\n",
    "\n",
    "    # Plotting the results\n",
    "    plt.figure(figsize=(10, 6))\n",
    "    for method_name in average_runtimes:\n",
    "        plt.plot(n_vals, average_runtimes[method_name], marker='o', label=method_name)\n",
    "\n",
    "    plt.xlabel('Number of Nodes (n)')\n",
    "    plt.ylabel('Average Runtime (seconds)')\n",
    "    plt.title('Average Max-Flow Computation Time vs. Graph Size')\n",
    "    plt.legend()\n",
    "    plt.grid(True)\n",
    "    plt.show()\n"
   ]
  }
 ],
 "metadata": {
  "kernelspec": {
   "display_name": "Python 3 (ipykernel)",
   "language": "python",
   "name": "python3"
  },
  "language_info": {
   "codemirror_mode": {
    "name": "ipython",
    "version": 3
   },
   "file_extension": ".py",
   "mimetype": "text/x-python",
   "name": "python",
   "nbconvert_exporter": "python",
   "pygments_lexer": "ipython3",
   "version": "3.9.6"
  }
 },
 "nbformat": 4,
 "nbformat_minor": 5
}
